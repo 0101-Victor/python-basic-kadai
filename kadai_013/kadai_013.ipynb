{
  "nbformat": 4,
  "nbformat_minor": 0,
  "metadata": {
    "colab": {
      "provenance": []
    },
    "kernelspec": {
      "name": "python3",
      "display_name": "Python 3"
    },
    "language_info": {
      "name": "python"
    }
  },
  "cells": [
    {
      "cell_type": "markdown",
      "source": [],
      "metadata": {
        "id": "juAwuGXuOBV7"
      }
    },
    {
      "cell_type": "code",
      "source": [
        "def calc_tax(price, tax_rate):\n",
        "  tax = price * (tax_rate / 100)\n",
        "  total = price + tax\n",
        "  return total\n",
        "\n",
        "product_price = 110\n",
        "tax_percent = 10\n",
        "\n",
        "result = calc_tax(product_price, tax_percent)\n",
        "\n",
        "print(f\"税込金額は {result} 円です。\")"
      ],
      "metadata": {
        "colab": {
          "base_uri": "https://localhost:8080/"
        },
        "id": "mFyOvXrzkTgM",
        "outputId": "8e4a7b85-5d17-48cd-f8cc-e0ac32a338c4"
      },
      "execution_count": 2,
      "outputs": [
        {
          "output_type": "stream",
          "name": "stdout",
          "text": [
            "税込金額は 121.0 円です。\n"
          ]
        }
      ]
    }
  ]
}