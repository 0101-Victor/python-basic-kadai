{
  "nbformat": 4,
  "nbformat_minor": 0,
  "metadata": {
    "colab": {
      "provenance": []
    },
    "kernelspec": {
      "name": "python3",
      "display_name": "Python 3"
    },
    "language_info": {
      "name": "python"
    }
  },
  "cells": [
    {
      "cell_type": "code",
      "source": [
        "class Human:\n",
        "  def __init__(self, name, age):\n",
        "    self.name = name\n",
        "    self.age = age\n",
        "\n",
        "  def printinfo(self):\n",
        "    print(f\"名前: {self.name},年齢:{self.age}\")\n",
        "\n",
        "person = Human(\"田中\", 30)\n",
        "\n",
        "person.printinfo()"
      ],
      "metadata": {
        "colab": {
          "base_uri": "https://localhost:8080/"
        },
        "id": "vEsrN1NAG5vr",
        "outputId": "837f02fb-345e-4222-e58a-4ccd1d7521ba"
      },
      "execution_count": 42,
      "outputs": [
        {
          "output_type": "stream",
          "name": "stdout",
          "text": [
            "名前: 田中,年齢:30\n"
          ]
        }
      ]
    }
  ]
}