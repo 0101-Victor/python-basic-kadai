{
  "nbformat": 4,
  "nbformat_minor": 0,
  "metadata": {
    "colab": {
      "provenance": []
    },
    "kernelspec": {
      "name": "python3",
      "display_name": "Python 3"
    },
    "language_info": {
      "name": "python"
    }
  },
  "cells": [
    {
      "cell_type": "code",
      "source": [
        "class Human:\n",
        "  def __init__(self, name, age):\n",
        "    self.name = name\n",
        "    self.age = age\n",
        "\n",
        "  def check_adult(self):\n",
        "    if self.age < 20:\n",
        "      print(f\"{self.name}さんは{self.age}歳で大人です！\")\n",
        "    else:\n",
        "      print(f\"{self.name}さんは{self.age}歳で大人ではありません。\")\n",
        "people = [\n",
        "    Human(\"田中\", 30),\n",
        "    Human(\"佐藤\", 18),\n",
        "    Human(\"鈴木\", 22),\n",
        "    Human(\"高橋\", 15)\n",
        "]\n",
        "\n",
        "for person in people:\n",
        "    person.check_adult()"
      ],
      "metadata": {
        "colab": {
          "base_uri": "https://localhost:8080/"
        },
        "id": "vEsrN1NAG5vr",
        "outputId": "9aa7a8e8-c62e-419c-a5a6-fcbbb9440776"
      },
      "execution_count": null,
      "outputs": [
        {
          "output_type": "stream",
          "name": "stdout",
          "text": [
            "田中さんは30歳で大人ではありません。\n",
            "佐藤さんは18歳で大人です！\n",
            "鈴木さんは22歳で大人ではありません。\n",
            "高橋さんは15歳で大人です！\n"
          ]
        }
      ]
    }
  ]
}